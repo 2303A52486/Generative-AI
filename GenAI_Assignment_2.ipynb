{
  "nbformat": 4,
  "nbformat_minor": 0,
  "metadata": {
    "colab": {
      "provenance": [],
      "authorship_tag": "ABX9TyOgUE59nazE8iKl+7mXKm7D",
      "include_colab_link": true
    },
    "kernelspec": {
      "name": "python3",
      "display_name": "Python 3"
    },
    "language_info": {
      "name": "python"
    }
  },
  "cells": [
    {
      "cell_type": "markdown",
      "metadata": {
        "id": "view-in-github",
        "colab_type": "text"
      },
      "source": [
        "<a href=\"https://colab.research.google.com/github/2303A52486/Generative-AI/blob/main/GenAI_Assignment_2.ipynb\" target=\"_parent\"><img src=\"https://colab.research.google.com/assets/colab-badge.svg\" alt=\"Open In Colab\"/></a>"
      ]
    },
    {
      "cell_type": "markdown",
      "source": [
        "**V.Abhinav (2303A5248)**"
      ],
      "metadata": {
        "id": "Xra_XbTJx1Nq"
      }
    },
    {
      "cell_type": "markdown",
      "source": [
        "## **Question-1**"
      ],
      "metadata": {
        "id": "iekPD1ncypxo"
      }
    },
    {
      "cell_type": "code",
      "execution_count": null,
      "metadata": {
        "colab": {
          "base_uri": "https://localhost:8080/"
        },
        "id": "omTtGDoGxM77",
        "outputId": "e4c5a2b3-7b0b-4563-f8af-f75c8f0993ff"
      },
      "outputs": [
        {
          "output_type": "stream",
          "name": "stdout",
          "text": [
            "Optimal number of A to produce: 2.00\n",
            "Optimal number of B to produce: 3.00\n",
            "Maximum Profit: 27.00\n"
          ]
        }
      ],
      "source": [
        "from scipy.optimize import linprog\n",
        "\n",
        "A = [[1, 1], [3, 2]]\n",
        "B = [5, 12]\n",
        "C = [-6, -5]\n",
        "\n",
        "x_bounds = (0, None)\n",
        "y_bounds = (0, None)\n",
        "\n",
        "result = linprog(C, A_ub=A, b_ub=B, bounds=[x_bounds, y_bounds], method=\"highs\")\n",
        "if result.success:\n",
        " print(f\"Optimal number of A to produce: {result.x[0]:.2f}\")\n",
        " print(f\"Optimal number of B to produce: {result.x[1]:.2f}\")\n",
        " print(f\"Maximum Profit: {-result.fun:.2f}\")\n",
        "else:\n",
        " print(\"Optimization failed:\", result.message)\n"
      ]
    },
    {
      "cell_type": "markdown",
      "source": [
        "## **Question-2**"
      ],
      "metadata": {
        "id": "aphwzj4Uy85_"
      }
    },
    {
      "cell_type": "code",
      "source": [
        "A = [[1, 1], [7000, 5000], [10, 30]]\n",
        "B = [110, 700000, 1200]\n",
        "\n",
        "C = [-50, -120]\n",
        "\n",
        "x_bounds = (0, None)\n",
        "y_bounds = (0, None)\n",
        "\n",
        "result = linprog(C, A_ub=A, b_ub=B, bounds=[x_bounds, y_bounds], method=\"highs\")\n",
        "\n",
        "if result.success:\n",
        " print(f\"Optimal hectares of Wheat (x1): {result.x[0]:.2f}\")\n",
        " print(f\"Optimal hectares of Barley (x2): {result.x[1]:.2f}\")\n",
        " print(f\"Maximum Profit: {-result.fun:.2f}\")\n",
        "else:\n",
        " print(\"Optimization failed:\", result.message)"
      ],
      "metadata": {
        "colab": {
          "base_uri": "https://localhost:8080/"
        },
        "id": "FiHVn7d8zeTQ",
        "outputId": "eef6a1a0-79c4-4713-a090-5d1100932729"
      },
      "execution_count": null,
      "outputs": [
        {
          "output_type": "stream",
          "name": "stdout",
          "text": [
            "Optimal hectares of Wheat (x1): 93.75\n",
            "Optimal hectares of Barley (x2): 8.75\n",
            "Maximum Profit: 5737.50\n"
          ]
        }
      ]
    }
  ]
}