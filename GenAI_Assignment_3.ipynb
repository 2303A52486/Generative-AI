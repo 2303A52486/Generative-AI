{
  "nbformat": 4,
  "nbformat_minor": 0,
  "metadata": {
    "colab": {
      "provenance": [],
      "include_colab_link": true
    },
    "kernelspec": {
      "name": "python3",
      "display_name": "Python 3"
    },
    "language_info": {
      "name": "python"
    }
  },
  "cells": [
    {
      "cell_type": "markdown",
      "metadata": {
        "id": "view-in-github",
        "colab_type": "text"
      },
      "source": [
        "<a href=\"https://colab.research.google.com/github/2303A52486/Generative-AI/blob/main/GenAI_Assignment_3.ipynb\" target=\"_parent\"><img src=\"https://colab.research.google.com/assets/colab-badge.svg\" alt=\"Open In Colab\"/></a>"
      ]
    },
    {
      "cell_type": "markdown",
      "source": [
        "**V.Abhinav (2303A52486)**"
      ],
      "metadata": {
        "id": "SbCG-AFH_Gip"
      }
    },
    {
      "cell_type": "markdown",
      "source": [
        " **1. Write Python code without using any libraries to find the value of x at which the function f(x) shown in equation (1) has minimum value. Consider Gradient Descent Algorithm.**\n",
        "\n",
        " **f(x) = 5x^4 + 3x^2 + 10**"
      ],
      "metadata": {
        "id": "z53_AUgmzmy5"
      }
    },
    {
      "cell_type": "code",
      "source": [
        "def gradient_descent_f1(learning_rate, precision, max_iters):\n",
        "    x = 0\n",
        "    iter_count = 0\n",
        "\n",
        "    while iter_count < max_iters:\n",
        "        gradient = 20*x**3+6*x\n",
        "        new_x = x - learning_rate * gradient\n",
        "        if abs(new_x - x) < precision:\n",
        "            break\n",
        "        x = new_x\n",
        "        iter_count += 1\n",
        "\n",
        "    return x, iter_count\n",
        "\n",
        "learning_rate = 0.01\n",
        "precision = 0.000001\n",
        "max_iters = 10000\n",
        "\n",
        "\n",
        "min_x, iterations = gradient_descent_f1(learning_rate, precision, max_iters)\n",
        "print(f\"Minimum value of x: {min_x}, found in {iterations} iterations\")\n"
      ],
      "metadata": {
        "colab": {
          "base_uri": "https://localhost:8080/"
        },
        "id": "-20PDDy2zsJC",
        "outputId": "d69d5acd-81d1-487c-80c3-d8f8536fccd3"
      },
      "execution_count": null,
      "outputs": [
        {
          "output_type": "stream",
          "name": "stdout",
          "text": [
            "Minimum value of x: 0, found in 0 iterations\n"
          ]
        }
      ]
    },
    {
      "cell_type": "markdown",
      "source": [
        "**2. Write Python code without using any libraries to find the value of x and y at which the function g(x,y) shown in equation (2) has minimum value. Consider Gradient Descent Algorithm.**\n",
        "\n",
        "**f(x) = 3x2 + 5e^−y + 10**"
      ],
      "metadata": {
        "id": "uw0OIxG-0Qp8"
      }
    },
    {
      "cell_type": "code",
      "source": [
        "def gradient_descent_f2(learning_rate, precision, max_iters):\n",
        "    x, y = 0, 0\n",
        "    iter_count = 0\n",
        "\n",
        "    while iter_count < max_iters:\n",
        "        gradient_x = 6 * x\n",
        "        gradient_y = -5 * (2.71828 ** -y)\n",
        "\n",
        "        new_x = x - learning_rate * gradient_x\n",
        "        new_y = y - learning_rate * gradient_y\n",
        "\n",
        "        if abs(new_x - x) < precision and abs(new_y - y) < precision:\n",
        "            break\n",
        "\n",
        "        x, y = new_x, new_y\n",
        "        iter_count += 1\n",
        "\n",
        "    return x, y, iter_count\n",
        "\n",
        "learning_rate = 0.01\n",
        "precision = 0.000001\n",
        "max_iters = 10000\n",
        "\n",
        "min_x, min_y, iterations = gradient_descent_f2(learning_rate, precision, max_iters)\n",
        "print(f\"Minimum values: x = {min_x}, y = {min_y}, found in {iterations} iterations\")\n"
      ],
      "metadata": {
        "colab": {
          "base_uri": "https://localhost:8080/"
        },
        "id": "q2axe3920fkT",
        "outputId": "a9fba7aa-fb43-4615-86e3-adbbbb0ba1d8"
      },
      "execution_count": null,
      "outputs": [
        {
          "output_type": "stream",
          "name": "stdout",
          "text": [
            "Minimum values: x = 0.0, y = 6.216920634657805, found in 10000 iterations\n"
          ]
        }
      ]
    },
    {
      "cell_type": "markdown",
      "source": [
        "**3. Write Python code without using any libraries to find the value of x at which the sigmoid function z(x) shown in equation (3) has minimum value. Consider Gradient Descent Algorithm.**\n",
        "\n",
        "**z(x) = 1/ 1 + e^−x**\n",
        "\n"
      ],
      "metadata": {
        "id": "_2NztIzG2AyG"
      }
    },
    {
      "cell_type": "code",
      "source": [
        "def gradient_descent_f3(learning_rate, precision, max_iters):\n",
        "    x = 0\n",
        "    iter_count = 0\n",
        "\n",
        "    while iter_count < max_iters:\n",
        "        z = 1 / (1 + 2.71828 ** -x)\n",
        "        gradient = z * (1 - z)\n",
        "        new_x = x - learning_rate * gradient\n",
        "\n",
        "        if abs(new_x - x) < precision:\n",
        "            break\n",
        "\n",
        "        x = new_x\n",
        "        iter_count += 1\n",
        "\n",
        "    return x, iter_count\n",
        "\n",
        "learning_rate = 0.01\n",
        "precision = 0.000001\n",
        "max_iters = 10000\n",
        "\n",
        "min_x, iterations = gradient_descent_f3(learning_rate, precision, max_iters)\n",
        "print(f\"Minimum value of x: {min_x}, found in {iterations} iterations\")\n"
      ],
      "metadata": {
        "colab": {
          "base_uri": "https://localhost:8080/"
        },
        "id": "PEnaI76h2PR5",
        "outputId": "324dc461-f9aa-47a5-ccf0-1cb721a418da"
      },
      "execution_count": null,
      "outputs": [
        {
          "output_type": "stream",
          "name": "stdout",
          "text": [
            "Minimum value of x: -4.510915611762466, found in 10000 iterations\n"
          ]
        }
      ]
    },
    {
      "cell_type": "markdown",
      "source": [
        "**4. Write Python code without using any libraries to find the value of optimal values of model parameters M and C such that the model’s Square Error Value shown in equation 4 will be minimum. It means model gives output close to expected output as shown in Figure 1.**\n",
        "\n",
        "**SE = (ExpectedOutput − P redictedOutput)^2**\n"
      ],
      "metadata": {
        "id": "EWgUNzpg2jIL"
      }
    },
    {
      "cell_type": "code",
      "source": [
        "def gradient_descent_f4(expected_output, predicted_output, learning_rate, precision, max_iters):\n",
        "    M, C = 0, 0\n",
        "    iter_count = 0\n",
        "\n",
        "    while iter_count < max_iters:\n",
        "        gradient_M = -2 * (expected_output - (M * predicted_output + C)) * predicted_output\n",
        "        gradient_C = -2 * (expected_output - (M * predicted_output + C))\n",
        "\n",
        "        new_M = M - learning_rate * gradient_M\n",
        "        new_C = C - learning_rate * gradient_C\n",
        "\n",
        "        if abs(new_M - M) < precision and abs(new_C - C) < precision:\n",
        "            break\n",
        "\n",
        "        M, C = new_M, new_C\n",
        "        iter_count += 1\n",
        "\n",
        "    return M, C, iter_count\n",
        "\n",
        "expected_output = 10\n",
        "predicted_output = 8\n",
        "learning_rate = 0.01\n",
        "precision = 0.000001\n",
        "max_iters = 10000\n",
        "\n",
        "optimal_M, optimal_C, iterations = gradient_descent_f4(expected_output, predicted_output, learning_rate, precision, max_iters)\n",
        "print(f\"Optimal values: M = {optimal_M}, C = {optimal_C}, found in {iterations} iterations\")\n"
      ],
      "metadata": {
        "colab": {
          "base_uri": "https://localhost:8080/"
        },
        "id": "RObFmgDM2uF9",
        "outputId": "5e11d407-6b0d-4232-ed81-98494f42fce5"
      },
      "execution_count": null,
      "outputs": [
        {
          "output_type": "stream",
          "name": "stdout",
          "text": [
            "Optimal values: M = 1.230768576688, C = 0.153846072086, found in 12 iterations\n"
          ]
        }
      ]
    }
  ]
}