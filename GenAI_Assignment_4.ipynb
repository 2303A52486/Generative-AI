{
  "nbformat": 4,
  "nbformat_minor": 0,
  "metadata": {
    "colab": {
      "provenance": [],
      "authorship_tag": "ABX9TyM4qNGq/oXILx9sOzPQRARI",
      "include_colab_link": true
    },
    "kernelspec": {
      "name": "python3",
      "display_name": "Python 3"
    },
    "language_info": {
      "name": "python"
    }
  },
  "cells": [
    {
      "cell_type": "markdown",
      "metadata": {
        "id": "view-in-github",
        "colab_type": "text"
      },
      "source": [
        "<a href=\"https://colab.research.google.com/github/2303A52486/Generative-AI/blob/main/GenAI_Assignment_4.ipynb\" target=\"_parent\"><img src=\"https://colab.research.google.com/assets/colab-badge.svg\" alt=\"Open In Colab\"/></a>"
      ]
    },
    {
      "cell_type": "markdown",
      "source": [
        "V.Abhinav (2303A52486)"
      ],
      "metadata": {
        "id": "Wajy4AWG2Nne"
      }
    },
    {
      "cell_type": "markdown",
      "source": [
        "**Question-1**\n",
        "\n",
        "Design a simple ANN architecture with one input and one output layer (no hidden\n",
        "layer). Assume a linear activation function in the output layer.\n",
        "\n",
        "* Write Python code for a backpropagation algorithm with gradient descent optimization to\n",
        "update weights and bias parameters of the ANN model with training data shown in Table-1.\n",
        "* Calculate the mean square error with training and testing data shown in Table-2.\n",
        "* Write Python code that reads the input data [x1, x2, and x3] from the user. Predict the\n",
        "output with deployed ANN model."
      ],
      "metadata": {
        "id": "Ckkcaa-02y_e"
      }
    },
    {
      "cell_type": "code",
      "execution_count": 9,
      "metadata": {
        "colab": {
          "base_uri": "https://localhost:8080/"
        },
        "id": "lGNnuCpL19Wp",
        "outputId": "2314e3d8-97de-473c-e0b8-949caf56ce38"
      },
      "outputs": [
        {
          "output_type": "stream",
          "name": "stdout",
          "text": [
            "Trained Weights: [0.28357907 0.23165936 0.31552173]\n",
            "Trained Bias: -0.0778338322029642\n",
            "Mean Squared Error (Training Data): 0.0010260959744479515\n",
            "Mean Squared Error (Testing Data): 0.006284477081773146\n"
          ]
        }
      ],
      "source": [
        "import numpy as np\n",
        "\n",
        "# Training Data\n",
        "X_train = np.array([[0.1, 0.2, 0.3],\n",
        "                   [0.2, 0.3, 0.4],\n",
        "                   [0.3, 0.4, 0.5],\n",
        "                   [0.5, 0.6, 0.7],\n",
        "                   [0.1, 0.3, 0.5],\n",
        "                   [0.2, 0.4, 0.6],\n",
        "                   [0.3, 0.5, 0.7],\n",
        "                   [0.4, 0.6, 0.8],\n",
        "                   [0.5, 0.7, 0.1]])\n",
        "Y_train = np.array([0.14, 0.20, 0.26, 0.38, 0.22, 0.28, 0.34, 0.40, 0.22])\n",
        "\n",
        "# Testing Data\n",
        "X_test = np.array([[0.6, 0.7, 0.8],\n",
        "                   [0.7, 0.8, 0.9]])\n",
        "Y_test = np.array([0.44, 0.50])\n",
        "\n",
        "# Initailizing Weights and Bias\n",
        "w = np.array([0.5, 0.5, 0.5])\n",
        "b = 0.2\n",
        "lr = 0.001\n",
        "epochs = 10000\n",
        "\n",
        "# Backpropagation algorithm with gradient descent\n",
        "for epoch in range(epochs):\n",
        "\n",
        "    Y_pred = np.dot(X_train, w) + b\n",
        "\n",
        "    # error\n",
        "    error = Y_train - Y_pred\n",
        "\n",
        "    # Calculate gradients\n",
        "    dw = -(2/len(X_train)) * np.dot(X_train.T, error)\n",
        "    db = -(2/len(X_train)) * np.sum(error)\n",
        "\n",
        "    # Updating weights and bias\n",
        "    w = w - lr * dw\n",
        "    b = b - lr * db\n",
        "\n",
        "# Calculate MSE for Training data\n",
        "Y_pred_train = np.dot(X_train, w) + b\n",
        "mse_train = np.mean((Y_train - Y_pred_train)**2)\n",
        "\n",
        "# Calculate MSE for Testing data\n",
        "Y_pred_test = np.dot(X_test, w) + b\n",
        "mse_test = np.mean((Y_test - Y_pred_test)**2)\n",
        "\n",
        "print(\"Trained Weights:\", w)\n",
        "print(\"Trained Bias:\", b)\n",
        "print(\"Mean Squared Error (Training Data):\", mse_train)\n",
        "print(\"Mean Squared Error (Testing Data):\", mse_test)"
      ]
    },
    {
      "cell_type": "markdown",
      "source": [
        "**Question-2**\n",
        "\n",
        "Design a simple ANN architecture with one input and one output layer (no hidden\n",
        "layer). Assume a sigmoid activation function shown in the equation 1 in the output layer.\n",
        "\n",
        " f(x) = 1/1 + e^−x\n",
        "\n",
        "* Write Python code for a backpropagation algorithm with gradient descent optimization to\n",
        "update weights and bias parameters of the ANN model with training data shown in Table-3."
      ],
      "metadata": {
        "id": "6J_hiUeb7S_c"
      }
    },
    {
      "cell_type": "code",
      "source": [
        "import numpy as np\n",
        "\n",
        "# Training Data\n",
        "\n",
        "X_train = np.array([[0.1, 0.2, 0.3],\n",
        "                   [0.2, 0.3, 0.4],\n",
        "                   [0.3, 0.4, 0.5],\n",
        "                   [0.5, 0.6, 0.7],\n",
        "                   [0.1, 0.3, 0.5],\n",
        "                   [0.2, 0.4, 0.6],\n",
        "                   [0.3, 0.5, 0.7],\n",
        "                   [0.4, 0.6, 0.8],\n",
        "                   [0.5, 0.7, 0.1]])\n",
        "Y_train = np.array([0.5349, 0.5498, 0.5646, 0.5939, 0.5548, 0.5695, 0.5842, 0.5987, 0.5548])\n",
        "\n",
        "# Initialize weights and bias\n",
        "W = np.array([0.5, 0.5, 0.5])\n",
        "b = 0.2\n",
        "l_rate = 0.08\n",
        "epochs = 10000\n",
        "\n",
        "# Sigmoid activation function\n",
        "def sigmoid(x):\n",
        "    return 1 / (1 + np.exp(-x))\n",
        "\n",
        "# Backpropagation algorithm with gradient descent\n",
        "for epoch in range(epochs):\n",
        "\n",
        "    Z = np.dot(X_train, W) + b\n",
        "    Y_pred = sigmoid(Z)\n",
        "\n",
        "    error = Y_train - Y_pred\n",
        "\n",
        "    # Calculate gradients\n",
        "    dZ = error * Y_pred * (1 - Y_pred)\n",
        "    dW = -(2/len(X_train)) * np.dot(X_train.T, dZ)\n",
        "    db = -(2/len(X_train)) * np.sum(dZ)\n",
        "\n",
        "    # Updating Weights and Bias\n",
        "    W = W - l_rate * dW\n",
        "    b = b - l_rate * db\n",
        "\n",
        "# Testing data\n",
        "X_test = np.array([[0.6, 0.7, 0.8],\n",
        "                  [0.7, 0.8, 0.9]])\n",
        "\n",
        "Y_test = np.array([0.6083, 0.6225])\n",
        "\n",
        "# Calculate Mean Square Error (MSE) for testing data\n",
        "Z_test = np.dot(X_test, W) + b\n",
        "Y_test_pred = sigmoid(Z_test)\n",
        "mse_test = np.mean((Y_test - Y_test_pred)**2)\n",
        "\n",
        "print(\"Trained Weights:\", W)\n",
        "print(\"Trained Bias:\", b)\n",
        "print(\"MSE (Testing):\", mse_test)\n",
        "\n",
        "# Predict output for user input\n",
        "x1 = float(input(\"Enter x1: \"))\n",
        "x2 = float(input(\"Enter x2: \"))\n",
        "x3 = float(input(\"Enter x3: \"))\n",
        "\n",
        "user_input = np.array([x1, x2, x3])\n",
        "Z_user = np.dot(user_input, W) + b\n",
        "Y_user_pred = sigmoid(Z_user)\n",
        "\n",
        "print(\"Predicted Output:\", Y_user_pred)"
      ],
      "metadata": {
        "colab": {
          "base_uri": "https://localhost:8080/"
        },
        "id": "onDHbRCR74kP",
        "outputId": "7bb5157f-1ef6-4b04-bb70-36b60e98ae27"
      },
      "execution_count": 15,
      "outputs": [
        {
          "output_type": "stream",
          "name": "stdout",
          "text": [
            "Trained Weights: [0.18006273 0.14071058 0.30572397]\n",
            "Trained Bias: 8.528394716865582e-05\n",
            "MSE (Testing): 8.590592193340029e-06\n",
            "Enter x1: 0.7\n",
            "Enter x2: 0.8\n",
            "Enter x3: 0.9\n",
            "Predicted Output: 0.6257083900526446\n"
          ]
        }
      ]
    }
  ]
}